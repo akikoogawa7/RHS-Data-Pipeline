{
 "metadata": {
  "language_info": {
   "codemirror_mode": {
    "name": "ipython",
    "version": 3
   },
   "file_extension": ".py",
   "mimetype": "text/x-python",
   "name": "python",
   "nbconvert_exporter": "python",
   "pygments_lexer": "ipython3",
   "version": "3.9.1"
  },
  "orig_nbformat": 2,
  "kernelspec": {
   "name": "python391jvsc74a57bd0569d6b7e9215e11aba41c6454007e5c1b78bad7df09dab765d8cf00362c40f03",
   "display_name": "Python 3.9.1 64-bit ('base': conda)"
  },
  "metadata": {
   "interpreter": {
    "hash": "569d6b7e9215e11aba41c6454007e5c1b78bad7df09dab765d8cf00362c40f03"
   }
  }
 },
 "nbformat": 4,
 "nbformat_minor": 2,
 "cells": [
  {
   "cell_type": "code",
   "execution_count": 17,
   "metadata": {},
   "outputs": [],
   "source": [
    "from selenium import webdriver\n",
    "from time import sleep\n",
    "\n",
    "driver = webdriver.Chrome()"
   ]
  },
  {
   "cell_type": "code",
   "execution_count": 41,
   "metadata": {},
   "outputs": [],
   "source": [
    "driver.get('https://www.rhs.org.uk/Plants/Search-Results?form-mode=true&context=l%3Den%26q%3D%2523all%26sl%3DplantForm')\n",
    "\n",
    "plants = driver.find_elements_by_xpath('//*[@id=\"planet_search_list\"]/div/plants-search-result-list/div')\n",
    "plant_list = []"
   ]
  },
  {
   "cell_type": "code",
   "execution_count": 42,
   "metadata": {},
   "outputs": [
    {
     "output_type": "stream",
     "name": "stdout",
     "text": [
      "Abelia engleriana\nEngler's abelia\nAbelia engleriana\nEngler's abelia\n"
     ]
    }
   ],
   "source": [
    "for target_plant in plants:\n",
    "    common_name = target_plant.find_element_by_xpath('//*[@id=\"planet_search_list\"]/div/plants-search-result-list/div/ul/li/div/h3').text\n",
    "    print(common_name)\n",
    "    synonym = target_plant.find_element_by_xpath('//*[@id=\"planet_search_list\"]/div/plants-search-result-list/div/ul/li/div/h4').text\n",
    "    print(synonym)\n",
    "    plant_list.append({common_name: common_name})"
   ]
  },
  {
   "cell_type": "code",
   "execution_count": 40,
   "metadata": {},
   "outputs": [
    {
     "output_type": "stream",
     "name": "stdout",
     "text": [
      "[{'Abelia engleriana': 'Abelia engleriana'}, {'Abelia engleriana': 'Abelia engleriana'}, {'Abelia engleriana': 'Abelia engleriana'}, {'Abelia engleriana': 'Abelia engleriana'}]\n"
     ]
    }
   ],
   "source": [
    "print(plant_list)"
   ]
  },
  {
   "cell_type": "code",
   "execution_count": 45,
   "metadata": {},
   "outputs": [],
   "source": [
    "driver.quit()"
   ]
  },
  {
   "cell_type": "code",
   "execution_count": null,
   "metadata": {},
   "outputs": [],
   "source": []
  }
 ]
}