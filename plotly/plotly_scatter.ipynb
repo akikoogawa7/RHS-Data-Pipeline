{
 "cells": [
  {
   "cell_type": "code",
   "execution_count": 1,
   "source": [
    "import plotly.express as px\n",
    "import pandas as pd"
   ],
   "outputs": [],
   "metadata": {}
  },
  {
   "cell_type": "code",
   "execution_count": 3,
   "source": [
    "df = pd.read_csv('rhs_trees.csv')\n",
    "df = pd.DataFrame(df)\n",
    "df"
   ],
   "outputs": [
    {
     "output_type": "execute_result",
     "data": {
      "text/plain": [
       "               CommonName       Family  \\\n",
       "0        snake-bark maple  Sapindaceae   \n",
       "1           Oven's wattle     Fabaceae   \n",
       "2        snake-bark maple  Sapindaceae   \n",
       "3    red snake-bark maple  Sapindaceae   \n",
       "4              vine maple  Sapindaceae   \n",
       "..                    ...          ...   \n",
       "114          Hers's maple  Sapindaceae   \n",
       "115             box elder  Sapindaceae   \n",
       "116        Moroccan broom     Fabaceae   \n",
       "117        goat horn tree   Salicaceae   \n",
       "118   monkeytail hornbeam   Betulaceae   \n",
       "\n",
       "                                    PlantRange  UltimateHeight_Min  \\\n",
       "0                                       Taiwan                 8.0   \n",
       "1                                 SE Australia                 2.5   \n",
       "2                                      C China                 8.0   \n",
       "3                                        Japan                 8.0   \n",
       "4    N America, British Columbia to California                 4.0   \n",
       "..                                         ...                 ...   \n",
       "114                                    C China                 8.0   \n",
       "115                                  C America                 8.0   \n",
       "116                                    Morocco                 2.5   \n",
       "117                                    W China                 8.0   \n",
       "118                                   SW China                 8.0   \n",
       "\n",
       "     UltimateHeight_Max  UltimateSpread_Min  UltimateSpread_Max  \\\n",
       "0                  12.0                 4.0                 8.0   \n",
       "1                   4.0                 1.5                 2.5   \n",
       "2                  12.0                 4.0                 8.0   \n",
       "3                  12.0                 4.0                 8.0   \n",
       "4                   8.0                 4.0                 8.0   \n",
       "..                  ...                 ...                 ...   \n",
       "114                12.0                 4.0                 8.0   \n",
       "115                12.0                 4.0                 8.0   \n",
       "116                 4.0                 2.5                 4.0   \n",
       "117                12.0                 4.0                 8.0   \n",
       "118                12.0                 4.0                 8.0   \n",
       "\n",
       "     TimeToUltimateHeight_Min  TimeToUltimateHeight_Max  \n",
       "0                          20                        50  \n",
       "1                           5                        10  \n",
       "2                          10                        20  \n",
       "3                          20                        50  \n",
       "4                          20                        50  \n",
       "..                        ...                       ...  \n",
       "114                        20                        50  \n",
       "115                        10                        20  \n",
       "116                         5                        10  \n",
       "117                        50                        50  \n",
       "118                        50                        50  \n",
       "\n",
       "[119 rows x 9 columns]"
      ],
      "text/html": [
       "<div>\n",
       "<style scoped>\n",
       "    .dataframe tbody tr th:only-of-type {\n",
       "        vertical-align: middle;\n",
       "    }\n",
       "\n",
       "    .dataframe tbody tr th {\n",
       "        vertical-align: top;\n",
       "    }\n",
       "\n",
       "    .dataframe thead th {\n",
       "        text-align: right;\n",
       "    }\n",
       "</style>\n",
       "<table border=\"1\" class=\"dataframe\">\n",
       "  <thead>\n",
       "    <tr style=\"text-align: right;\">\n",
       "      <th></th>\n",
       "      <th>CommonName</th>\n",
       "      <th>Family</th>\n",
       "      <th>PlantRange</th>\n",
       "      <th>UltimateHeight_Min</th>\n",
       "      <th>UltimateHeight_Max</th>\n",
       "      <th>UltimateSpread_Min</th>\n",
       "      <th>UltimateSpread_Max</th>\n",
       "      <th>TimeToUltimateHeight_Min</th>\n",
       "      <th>TimeToUltimateHeight_Max</th>\n",
       "    </tr>\n",
       "  </thead>\n",
       "  <tbody>\n",
       "    <tr>\n",
       "      <th>0</th>\n",
       "      <td>snake-bark maple</td>\n",
       "      <td>Sapindaceae</td>\n",
       "      <td>Taiwan</td>\n",
       "      <td>8.0</td>\n",
       "      <td>12.0</td>\n",
       "      <td>4.0</td>\n",
       "      <td>8.0</td>\n",
       "      <td>20</td>\n",
       "      <td>50</td>\n",
       "    </tr>\n",
       "    <tr>\n",
       "      <th>1</th>\n",
       "      <td>Oven's wattle</td>\n",
       "      <td>Fabaceae</td>\n",
       "      <td>SE Australia</td>\n",
       "      <td>2.5</td>\n",
       "      <td>4.0</td>\n",
       "      <td>1.5</td>\n",
       "      <td>2.5</td>\n",
       "      <td>5</td>\n",
       "      <td>10</td>\n",
       "    </tr>\n",
       "    <tr>\n",
       "      <th>2</th>\n",
       "      <td>snake-bark maple</td>\n",
       "      <td>Sapindaceae</td>\n",
       "      <td>C China</td>\n",
       "      <td>8.0</td>\n",
       "      <td>12.0</td>\n",
       "      <td>4.0</td>\n",
       "      <td>8.0</td>\n",
       "      <td>10</td>\n",
       "      <td>20</td>\n",
       "    </tr>\n",
       "    <tr>\n",
       "      <th>3</th>\n",
       "      <td>red snake-bark maple</td>\n",
       "      <td>Sapindaceae</td>\n",
       "      <td>Japan</td>\n",
       "      <td>8.0</td>\n",
       "      <td>12.0</td>\n",
       "      <td>4.0</td>\n",
       "      <td>8.0</td>\n",
       "      <td>20</td>\n",
       "      <td>50</td>\n",
       "    </tr>\n",
       "    <tr>\n",
       "      <th>4</th>\n",
       "      <td>vine maple</td>\n",
       "      <td>Sapindaceae</td>\n",
       "      <td>N America, British Columbia to California</td>\n",
       "      <td>4.0</td>\n",
       "      <td>8.0</td>\n",
       "      <td>4.0</td>\n",
       "      <td>8.0</td>\n",
       "      <td>20</td>\n",
       "      <td>50</td>\n",
       "    </tr>\n",
       "    <tr>\n",
       "      <th>...</th>\n",
       "      <td>...</td>\n",
       "      <td>...</td>\n",
       "      <td>...</td>\n",
       "      <td>...</td>\n",
       "      <td>...</td>\n",
       "      <td>...</td>\n",
       "      <td>...</td>\n",
       "      <td>...</td>\n",
       "      <td>...</td>\n",
       "    </tr>\n",
       "    <tr>\n",
       "      <th>114</th>\n",
       "      <td>Hers's maple</td>\n",
       "      <td>Sapindaceae</td>\n",
       "      <td>C China</td>\n",
       "      <td>8.0</td>\n",
       "      <td>12.0</td>\n",
       "      <td>4.0</td>\n",
       "      <td>8.0</td>\n",
       "      <td>20</td>\n",
       "      <td>50</td>\n",
       "    </tr>\n",
       "    <tr>\n",
       "      <th>115</th>\n",
       "      <td>box elder</td>\n",
       "      <td>Sapindaceae</td>\n",
       "      <td>C America</td>\n",
       "      <td>8.0</td>\n",
       "      <td>12.0</td>\n",
       "      <td>4.0</td>\n",
       "      <td>8.0</td>\n",
       "      <td>10</td>\n",
       "      <td>20</td>\n",
       "    </tr>\n",
       "    <tr>\n",
       "      <th>116</th>\n",
       "      <td>Moroccan broom</td>\n",
       "      <td>Fabaceae</td>\n",
       "      <td>Morocco</td>\n",
       "      <td>2.5</td>\n",
       "      <td>4.0</td>\n",
       "      <td>2.5</td>\n",
       "      <td>4.0</td>\n",
       "      <td>5</td>\n",
       "      <td>10</td>\n",
       "    </tr>\n",
       "    <tr>\n",
       "      <th>117</th>\n",
       "      <td>goat horn tree</td>\n",
       "      <td>Salicaceae</td>\n",
       "      <td>W China</td>\n",
       "      <td>8.0</td>\n",
       "      <td>12.0</td>\n",
       "      <td>4.0</td>\n",
       "      <td>8.0</td>\n",
       "      <td>50</td>\n",
       "      <td>50</td>\n",
       "    </tr>\n",
       "    <tr>\n",
       "      <th>118</th>\n",
       "      <td>monkeytail hornbeam</td>\n",
       "      <td>Betulaceae</td>\n",
       "      <td>SW China</td>\n",
       "      <td>8.0</td>\n",
       "      <td>12.0</td>\n",
       "      <td>4.0</td>\n",
       "      <td>8.0</td>\n",
       "      <td>50</td>\n",
       "      <td>50</td>\n",
       "    </tr>\n",
       "  </tbody>\n",
       "</table>\n",
       "<p>119 rows × 9 columns</p>\n",
       "</div>"
      ]
     },
     "metadata": {},
     "execution_count": 3
    }
   ],
   "metadata": {}
  },
  {
   "cell_type": "code",
   "execution_count": 4,
   "source": [
    "df = df.sort_values('Family', ascending=True)"
   ],
   "outputs": [],
   "metadata": {}
  },
  {
   "cell_type": "code",
   "execution_count": 5,
   "source": [
    "fig = px.scatter(df, x='TimeToUltimateHeight_Max', y='UltimateHeight_Max', color='Family', size='UltimateSpread_Max',hover_data=['CommonName'], title=\"Tree Family's Time To Max Growth Height (Metres)\")\n",
    "fig.show()"
   ],
   "outputs": [
    {
     "output_type": "display_data",
     "data": {
      "application/vnd.plotly.v1+json": {
       "config": {
        "plotlyServerURL": "https://plot.ly"
       },
       "data": [
        {
         "customdata": [
          [
           "monkeytail hornbeam"
          ],
          [
           "hazel"
          ],
          [
           "oriental hornbeam"
          ],
          [
           "transcaucasian birch"
          ],
          [
           "Radde's birch"
          ],
          [
           "Turczaninow hornbeam"
          ],
          [
           "Japanese hornbeam"
          ]
         ],
         "hovertemplate": "Family=Betulaceae<br>TimeToUltimateHeight_Max=%{x}<br>UltimateHeight_Max=%{y}<br>UltimateSpread_Max=%{marker.size}<br>CommonName=%{customdata[0]}<extra></extra>",
         "legendgroup": "Betulaceae",
         "marker": {
          "color": "#636efa",
          "size": [
           8,
           8,
           8,
           8,
           8,
           8,
           8
          ],
          "sizemode": "area",
          "sizeref": 0.02,
          "symbol": "circle"
         },
         "mode": "markers",
         "name": "Betulaceae",
         "orientation": "v",
         "showlegend": true,
         "type": "scatter",
         "x": [
          50,
          20,
          50,
          20,
          20,
          50,
          50
         ],
         "xaxis": "x",
         "y": [
          12,
          8,
          8,
          8,
          8,
          12,
          8
         ],
         "yaxis": "y"
        },
        {
         "customdata": [
          [
           "magnificent Katsura tree"
          ]
         ],
         "hovertemplate": "Family=Cercidiphyllaceae<br>TimeToUltimateHeight_Max=%{x}<br>UltimateHeight_Max=%{y}<br>UltimateSpread_Max=%{marker.size}<br>CommonName=%{customdata[0]}<extra></extra>",
         "legendgroup": "Cercidiphyllaceae",
         "marker": {
          "color": "#EF553B",
          "size": [
           8
          ],
          "sizemode": "area",
          "sizeref": 0.02,
          "symbol": "circle"
         },
         "mode": "markers",
         "name": "Cercidiphyllaceae",
         "orientation": "v",
         "showlegend": true,
         "type": "scatter",
         "x": [
          50
         ],
         "xaxis": "x",
         "y": [
          12
         ],
         "yaxis": "y"
        },
        {
         "customdata": [
          [
           "red-barked dogwood"
          ],
          [
           "eastern flowering dogwood red-form"
          ],
          [
           "Cornelian cherry"
          ],
          [
           "headed-flowered dogwood"
          ],
          [
           "mountain dogwood"
          ],
          [
           "flat-leaved alangium"
          ],
          [
           "Chinese dogwood"
          ],
          [
           "flowering dogwood"
          ],
          [
           "Japanese cornelian cherry"
          ],
          [
           "common dogwood"
          ],
          [
           "kousa"
          ]
         ],
         "hovertemplate": "Family=Cornaceae<br>TimeToUltimateHeight_Max=%{x}<br>UltimateHeight_Max=%{y}<br>UltimateSpread_Max=%{marker.size}<br>CommonName=%{customdata[0]}<extra></extra>",
         "legendgroup": "Cornaceae",
         "marker": {
          "color": "#00cc96",
          "size": [
           4,
           8,
           4,
           8,
           8,
           2.5,
           8,
           8,
           8,
           2.5,
           8
          ],
          "sizemode": "area",
          "sizeref": 0.02,
          "symbol": "circle"
         },
         "mode": "markers",
         "name": "Cornaceae",
         "orientation": "v",
         "showlegend": true,
         "type": "scatter",
         "x": [
          10,
          50,
          20,
          20,
          20,
          20,
          50,
          50,
          10,
          10,
          50
         ],
         "xaxis": "x",
         "y": [
          4,
          8,
          4,
          12,
          12,
          4,
          8,
          8,
          8,
          2.5,
          8
         ],
         "yaxis": "y"
        },
        {
         "customdata": [
          [
           "Chilean arbor-vitae"
          ],
          [
           "dwarf pine"
          ],
          [
           "common juniper"
          ],
          [
           "Russian arbor-vitae"
          ]
         ],
         "hovertemplate": "Family=Cupressaceae<br>TimeToUltimateHeight_Max=%{x}<br>UltimateHeight_Max=%{y}<br>UltimateSpread_Max=%{marker.size}<br>CommonName=%{customdata[0]}<extra></extra>",
         "legendgroup": "Cupressaceae",
         "marker": {
          "color": "#ab63fa",
          "size": [
           4,
           4,
           4,
           1.5
          ],
          "sizemode": "area",
          "sizeref": 0.02,
          "symbol": "circle"
         },
         "mode": "markers",
         "name": "Cupressaceae",
         "orientation": "v",
         "showlegend": true,
         "type": "scatter",
         "x": [
          50,
          20,
          50,
          20
         ],
         "xaxis": "x",
         "y": [
          12,
          4,
          8,
          0.5
         ],
         "yaxis": "y"
        },
        {
         "customdata": [
          [
           "ruddy clover"
          ],
          [
           "Nepal laburnum"
          ],
          [
           "Japanese wisteria"
          ],
          [
           "Himalayan indigo"
          ],
          [
           "coral vine"
          ],
          [
           "heart-leaved flame pea"
          ],
          [
           "bastard indigo"
          ],
          [
           "Barbados pride"
          ],
          [
           "Christ's tears"
          ],
          [
           "common goat's rue"
          ],
          [
           "cinnamon vine"
          ],
          [
           "blue wattle"
          ],
          [
           "Oriental goat's rue"
          ],
          [
           "Cootamundra wattle"
          ],
          [
           "silk tree"
          ],
          [
           "Western Australia coral pea"
          ],
          [
           "sensitive plant"
          ],
          [
           "Yunnan liquorice"
          ],
          [
           "Chinese redbud"
          ],
          [
           "elegant tick clover"
          ],
          [
           "tree lupin"
          ],
          [
           "arrow-jointed broom"
          ],
          [
           "pink-flowered indigo"
          ],
          [
           "weeping indigo"
          ],
          [
           "spring pea"
          ],
          [
           "common broom"
          ],
          [
           "Persian everlasting pea"
          ],
          [
           "Oven's wattle"
          ],
          [
           "Moroccan broom"
          ],
          [
           "glaucous scorpion-vetch"
          ],
          [
           "perennial golden pea"
          ],
          [
           "white clover"
          ],
          [
           "common laburnum"
          ],
          [
           "tapered false lupin"
          ],
          [
           "florists' genista"
          ],
          [
           "hairy canary clover"
          ],
          [
           "yoke-leaved amicia"
          ],
          [
           "kidney vetch"
          ],
          [
           "chickpea milk vetch"
          ],
          [
           "pink silk tree"
          ],
          [
           "scorpion senna"
          ],
          [
           "two-flowered everlasting pea"
          ],
          [
           "false indigo"
          ],
          [
           "Siberian pea tree"
          ],
          [
           "carob"
          ],
          [
           "Thunberg lespedeza"
          ],
          [
           "Spanish broom"
          ],
          [
           "glory pea"
          ],
          [
           "bastard senna"
          ],
          [
           "Indian pea"
          ],
          [
           "common bladder senna"
          ],
          [
           "narrow-leaved everlasting pea"
          ],
          [
           "hedgehog broom"
          ],
          [
           "broad-leaved everlasting pea"
          ],
          [
           "black pea"
          ],
          [
           "flowery senna"
          ],
          [
           "pygmy broom"
          ]
         ],
         "hovertemplate": "Family=Fabaceae<br>TimeToUltimateHeight_Max=%{x}<br>UltimateHeight_Max=%{y}<br>UltimateSpread_Max=%{marker.size}<br>CommonName=%{customdata[0]}<extra></extra>",
         "legendgroup": "Fabaceae",
         "marker": {
          "color": "#FFA15A",
          "size": [
           1,
           2.5,
           1.5,
           2.5,
           4,
           1.5,
           4,
           4,
           1.5,
           1,
           0.5,
           4,
           1,
           4,
           4,
           1,
           1,
           0.5,
           4,
           1.5,
           2.5,
           1,
           2.5,
           2.5,
           0.5,
           1.5,
           0.5,
           2.5,
           4,
           1,
           0.5,
           0.5,
           8,
           1,
           1.5,
           1,
           1.5,
           1,
           1,
           4,
           2.5,
           1.5,
           1,
           4,
           8,
           2.5,
           2.5,
           4,
           1.5,
           0.5,
           4,
           1,
           1,
           1,
           0.5,
           2.5,
           1
          ],
          "sizemode": "area",
          "sizeref": 0.02,
          "symbol": "circle"
         },
         "mode": "markers",
         "name": "Fabaceae",
         "orientation": "v",
         "showlegend": true,
         "type": "scatter",
         "x": [
          5,
          10,
          20,
          10,
          10,
          10,
          20,
          20,
          10,
          5,
          2,
          20,
          5,
          20,
          20,
          10,
          2,
          5,
          20,
          10,
          5,
          5,
          20,
          10,
          5,
          5,
          5,
          10,
          10,
          20,
          5,
          5,
          20,
          5,
          10,
          5,
          2,
          2,
          2,
          20,
          10,
          5,
          5,
          20,
          20,
          10,
          10,
          10,
          10,
          2,
          20,
          5,
          20,
          2,
          5,
          20,
          10
         ],
         "xaxis": "x",
         "y": [
          1,
          2.5,
          8,
          2.5,
          4,
          1.5,
          4,
          4,
          2.5,
          1.5,
          2.5,
          12,
          1.5,
          8,
          8,
          4,
          0.5,
          1.5,
          4,
          1.5,
          2.5,
          0.5,
          2.5,
          4,
          0.5,
          1.5,
          1.5,
          4,
          4,
          1,
          1,
          0.5,
          8,
          1,
          4,
          1,
          2.5,
          0.5,
          1,
          8,
          2.5,
          2.5,
          1.5,
          8,
          12,
          1.5,
          2.5,
          4,
          1.5,
          1.5,
          4,
          2.5,
          0.5,
          2.5,
          1,
          2.5,
          0.5
         ],
         "yaxis": "y"
        },
        {
         "customdata": [
          [
           "golden larch"
          ],
          [
           "dwarf mountain pine"
          ]
         ],
         "hovertemplate": "Family=Pinaceae<br>TimeToUltimateHeight_Max=%{x}<br>UltimateHeight_Max=%{y}<br>UltimateSpread_Max=%{marker.size}<br>CommonName=%{customdata[0]}<extra></extra>",
         "legendgroup": "Pinaceae",
         "marker": {
          "color": "#19d3f3",
          "size": [
           8,
           8
          ],
          "sizemode": "area",
          "sizeref": 0.02,
          "symbol": "circle"
         },
         "mode": "markers",
         "name": "Pinaceae",
         "orientation": "v",
         "showlegend": true,
         "type": "scatter",
         "x": [
          50,
          50
         ],
         "xaxis": "x",
         "y": [
          12,
          4
         ],
         "yaxis": "y"
        },
        {
         "customdata": [
          [
           "Sichuan pepper"
          ],
          [
           "Seville orange"
          ],
          [
           "Sichuan pepper"
          ],
          [
           "hop tree"
          ],
          [
           "Japanese orixa"
          ],
          [
           "common correa"
          ],
          [
           "Mexican orange blossom"
          ],
          [
           "dittany"
          ],
          [
           "Australian fuchsia"
          ]
         ],
         "hovertemplate": "Family=Rutaceae<br>TimeToUltimateHeight_Max=%{x}<br>UltimateHeight_Max=%{y}<br>UltimateSpread_Max=%{marker.size}<br>CommonName=%{customdata[0]}<extra></extra>",
         "legendgroup": "Rutaceae",
         "marker": {
          "color": "#FF6692",
          "size": [
           4,
           4,
           2.5,
           4,
           4,
           2.5,
           2.5,
           0.5,
           1.5
          ],
          "sizemode": "area",
          "sizeref": 0.02,
          "symbol": "circle"
         },
         "mode": "markers",
         "name": "Rutaceae",
         "orientation": "v",
         "showlegend": true,
         "type": "scatter",
         "x": [
          20,
          20,
          10,
          50,
          10,
          10,
          20,
          5,
          10
         ],
         "xaxis": "x",
         "y": [
          4,
          8,
          2.5,
          8,
          2.5,
          2.5,
          2.5,
          1,
          1.5
         ],
         "yaxis": "y"
        },
        {
         "customdata": [
          [
           "violet willow"
          ],
          [
           "lanceolate azara"
          ],
          [
           "saw-toothed azara"
          ],
          [
           "coyote willow"
          ],
          [
           "coastal willow"
          ],
          [
           "box-leaf azara"
          ],
          [
           "musk willow"
          ],
          [
           "Japanese fodder willow"
          ],
          [
           "silvery creeping willow"
          ],
          [
           "Yezo dwarf willow"
          ],
          [
           "goat horn tree"
          ]
         ],
         "hovertemplate": "Family=Salicaceae<br>TimeToUltimateHeight_Max=%{x}<br>UltimateHeight_Max=%{y}<br>UltimateSpread_Max=%{marker.size}<br>CommonName=%{customdata[0]}<extra></extra>",
         "legendgroup": "Salicaceae",
         "marker": {
          "color": "#B6E880",
          "size": [
           8,
           8,
           4,
           4,
           8,
           4,
           8,
           8,
           2.5,
           4,
           8
          ],
          "sizemode": "area",
          "sizeref": 0.02,
          "symbol": "circle"
         },
         "mode": "markers",
         "name": "Salicaceae",
         "orientation": "v",
         "showlegend": true,
         "type": "scatter",
         "x": [
          20,
          20,
          20,
          10,
          20,
          50,
          20,
          20,
          10,
          10,
          50
         ],
         "xaxis": "x",
         "y": [
          8,
          8,
          4,
          4,
          8,
          8,
          8,
          8,
          1,
          0.5,
          12
         ],
         "yaxis": "y"
        },
        {
         "customdata": [
          [
           "box elder"
          ],
          [
           "snake-bark maple"
          ],
          [
           "Hers's maple"
          ],
          [
           "red snake-bark maple"
          ],
          [
           "vine maple"
          ],
          [
           "Amur maple"
          ],
          [
           "paperbark maple"
          ],
          [
           "false Siebold's maple"
          ],
          [
           "Montpelier maple"
          ],
          [
           "Japanese maple"
          ],
          [
           "Manchurian striped maple"
          ],
          [
           "three-flowered maple"
          ],
          [
           "bottlebrush buckeye"
          ],
          [
           "cut-leaved Japanese maple"
          ],
          [
           "shinyleaf yellowhorn"
          ],
          [
           "small-leaved maple"
          ],
          [
           "snake-bark maple"
          ]
         ],
         "hovertemplate": "Family=Sapindaceae<br>TimeToUltimateHeight_Max=%{x}<br>UltimateHeight_Max=%{y}<br>UltimateSpread_Max=%{marker.size}<br>CommonName=%{customdata[0]}<extra></extra>",
         "legendgroup": "Sapindaceae",
         "marker": {
          "color": "#FF97FF",
          "size": [
           8,
           8,
           8,
           8,
           8,
           8,
           8,
           8,
           8,
           8,
           8,
           8,
           8,
           4,
           2.5,
           4,
           8
          ],
          "sizemode": "area",
          "sizeref": 0.02,
          "symbol": "circle"
         },
         "mode": "markers",
         "name": "Sapindaceae",
         "orientation": "v",
         "showlegend": true,
         "type": "scatter",
         "x": [
          20,
          20,
          50,
          50,
          50,
          50,
          50,
          20,
          20,
          20,
          50,
          20,
          20,
          10,
          20,
          20,
          50
         ],
         "xaxis": "x",
         "y": [
          12,
          12,
          12,
          12,
          8,
          8,
          12,
          8,
          12,
          8,
          12,
          12,
          4,
          2.5,
          4,
          8,
          12
         ],
         "yaxis": "y"
        }
       ],
       "layout": {
        "legend": {
         "itemsizing": "constant",
         "title": {
          "text": "Family"
         },
         "tracegroupgap": 0
        },
        "template": {
         "data": {
          "bar": [
           {
            "error_x": {
             "color": "#2a3f5f"
            },
            "error_y": {
             "color": "#2a3f5f"
            },
            "marker": {
             "line": {
              "color": "#E5ECF6",
              "width": 0.5
             }
            },
            "type": "bar"
           }
          ],
          "barpolar": [
           {
            "marker": {
             "line": {
              "color": "#E5ECF6",
              "width": 0.5
             }
            },
            "type": "barpolar"
           }
          ],
          "carpet": [
           {
            "aaxis": {
             "endlinecolor": "#2a3f5f",
             "gridcolor": "white",
             "linecolor": "white",
             "minorgridcolor": "white",
             "startlinecolor": "#2a3f5f"
            },
            "baxis": {
             "endlinecolor": "#2a3f5f",
             "gridcolor": "white",
             "linecolor": "white",
             "minorgridcolor": "white",
             "startlinecolor": "#2a3f5f"
            },
            "type": "carpet"
           }
          ],
          "choropleth": [
           {
            "colorbar": {
             "outlinewidth": 0,
             "ticks": ""
            },
            "type": "choropleth"
           }
          ],
          "contour": [
           {
            "colorbar": {
             "outlinewidth": 0,
             "ticks": ""
            },
            "colorscale": [
             [
              0,
              "#0d0887"
             ],
             [
              0.1111111111111111,
              "#46039f"
             ],
             [
              0.2222222222222222,
              "#7201a8"
             ],
             [
              0.3333333333333333,
              "#9c179e"
             ],
             [
              0.4444444444444444,
              "#bd3786"
             ],
             [
              0.5555555555555556,
              "#d8576b"
             ],
             [
              0.6666666666666666,
              "#ed7953"
             ],
             [
              0.7777777777777778,
              "#fb9f3a"
             ],
             [
              0.8888888888888888,
              "#fdca26"
             ],
             [
              1,
              "#f0f921"
             ]
            ],
            "type": "contour"
           }
          ],
          "contourcarpet": [
           {
            "colorbar": {
             "outlinewidth": 0,
             "ticks": ""
            },
            "type": "contourcarpet"
           }
          ],
          "heatmap": [
           {
            "colorbar": {
             "outlinewidth": 0,
             "ticks": ""
            },
            "colorscale": [
             [
              0,
              "#0d0887"
             ],
             [
              0.1111111111111111,
              "#46039f"
             ],
             [
              0.2222222222222222,
              "#7201a8"
             ],
             [
              0.3333333333333333,
              "#9c179e"
             ],
             [
              0.4444444444444444,
              "#bd3786"
             ],
             [
              0.5555555555555556,
              "#d8576b"
             ],
             [
              0.6666666666666666,
              "#ed7953"
             ],
             [
              0.7777777777777778,
              "#fb9f3a"
             ],
             [
              0.8888888888888888,
              "#fdca26"
             ],
             [
              1,
              "#f0f921"
             ]
            ],
            "type": "heatmap"
           }
          ],
          "heatmapgl": [
           {
            "colorbar": {
             "outlinewidth": 0,
             "ticks": ""
            },
            "colorscale": [
             [
              0,
              "#0d0887"
             ],
             [
              0.1111111111111111,
              "#46039f"
             ],
             [
              0.2222222222222222,
              "#7201a8"
             ],
             [
              0.3333333333333333,
              "#9c179e"
             ],
             [
              0.4444444444444444,
              "#bd3786"
             ],
             [
              0.5555555555555556,
              "#d8576b"
             ],
             [
              0.6666666666666666,
              "#ed7953"
             ],
             [
              0.7777777777777778,
              "#fb9f3a"
             ],
             [
              0.8888888888888888,
              "#fdca26"
             ],
             [
              1,
              "#f0f921"
             ]
            ],
            "type": "heatmapgl"
           }
          ],
          "histogram": [
           {
            "marker": {
             "colorbar": {
              "outlinewidth": 0,
              "ticks": ""
             }
            },
            "type": "histogram"
           }
          ],
          "histogram2d": [
           {
            "colorbar": {
             "outlinewidth": 0,
             "ticks": ""
            },
            "colorscale": [
             [
              0,
              "#0d0887"
             ],
             [
              0.1111111111111111,
              "#46039f"
             ],
             [
              0.2222222222222222,
              "#7201a8"
             ],
             [
              0.3333333333333333,
              "#9c179e"
             ],
             [
              0.4444444444444444,
              "#bd3786"
             ],
             [
              0.5555555555555556,
              "#d8576b"
             ],
             [
              0.6666666666666666,
              "#ed7953"
             ],
             [
              0.7777777777777778,
              "#fb9f3a"
             ],
             [
              0.8888888888888888,
              "#fdca26"
             ],
             [
              1,
              "#f0f921"
             ]
            ],
            "type": "histogram2d"
           }
          ],
          "histogram2dcontour": [
           {
            "colorbar": {
             "outlinewidth": 0,
             "ticks": ""
            },
            "colorscale": [
             [
              0,
              "#0d0887"
             ],
             [
              0.1111111111111111,
              "#46039f"
             ],
             [
              0.2222222222222222,
              "#7201a8"
             ],
             [
              0.3333333333333333,
              "#9c179e"
             ],
             [
              0.4444444444444444,
              "#bd3786"
             ],
             [
              0.5555555555555556,
              "#d8576b"
             ],
             [
              0.6666666666666666,
              "#ed7953"
             ],
             [
              0.7777777777777778,
              "#fb9f3a"
             ],
             [
              0.8888888888888888,
              "#fdca26"
             ],
             [
              1,
              "#f0f921"
             ]
            ],
            "type": "histogram2dcontour"
           }
          ],
          "mesh3d": [
           {
            "colorbar": {
             "outlinewidth": 0,
             "ticks": ""
            },
            "type": "mesh3d"
           }
          ],
          "parcoords": [
           {
            "line": {
             "colorbar": {
              "outlinewidth": 0,
              "ticks": ""
             }
            },
            "type": "parcoords"
           }
          ],
          "pie": [
           {
            "automargin": true,
            "type": "pie"
           }
          ],
          "scatter": [
           {
            "marker": {
             "colorbar": {
              "outlinewidth": 0,
              "ticks": ""
             }
            },
            "type": "scatter"
           }
          ],
          "scatter3d": [
           {
            "line": {
             "colorbar": {
              "outlinewidth": 0,
              "ticks": ""
             }
            },
            "marker": {
             "colorbar": {
              "outlinewidth": 0,
              "ticks": ""
             }
            },
            "type": "scatter3d"
           }
          ],
          "scattercarpet": [
           {
            "marker": {
             "colorbar": {
              "outlinewidth": 0,
              "ticks": ""
             }
            },
            "type": "scattercarpet"
           }
          ],
          "scattergeo": [
           {
            "marker": {
             "colorbar": {
              "outlinewidth": 0,
              "ticks": ""
             }
            },
            "type": "scattergeo"
           }
          ],
          "scattergl": [
           {
            "marker": {
             "colorbar": {
              "outlinewidth": 0,
              "ticks": ""
             }
            },
            "type": "scattergl"
           }
          ],
          "scattermapbox": [
           {
            "marker": {
             "colorbar": {
              "outlinewidth": 0,
              "ticks": ""
             }
            },
            "type": "scattermapbox"
           }
          ],
          "scatterpolar": [
           {
            "marker": {
             "colorbar": {
              "outlinewidth": 0,
              "ticks": ""
             }
            },
            "type": "scatterpolar"
           }
          ],
          "scatterpolargl": [
           {
            "marker": {
             "colorbar": {
              "outlinewidth": 0,
              "ticks": ""
             }
            },
            "type": "scatterpolargl"
           }
          ],
          "scatterternary": [
           {
            "marker": {
             "colorbar": {
              "outlinewidth": 0,
              "ticks": ""
             }
            },
            "type": "scatterternary"
           }
          ],
          "surface": [
           {
            "colorbar": {
             "outlinewidth": 0,
             "ticks": ""
            },
            "colorscale": [
             [
              0,
              "#0d0887"
             ],
             [
              0.1111111111111111,
              "#46039f"
             ],
             [
              0.2222222222222222,
              "#7201a8"
             ],
             [
              0.3333333333333333,
              "#9c179e"
             ],
             [
              0.4444444444444444,
              "#bd3786"
             ],
             [
              0.5555555555555556,
              "#d8576b"
             ],
             [
              0.6666666666666666,
              "#ed7953"
             ],
             [
              0.7777777777777778,
              "#fb9f3a"
             ],
             [
              0.8888888888888888,
              "#fdca26"
             ],
             [
              1,
              "#f0f921"
             ]
            ],
            "type": "surface"
           }
          ],
          "table": [
           {
            "cells": {
             "fill": {
              "color": "#EBF0F8"
             },
             "line": {
              "color": "white"
             }
            },
            "header": {
             "fill": {
              "color": "#C8D4E3"
             },
             "line": {
              "color": "white"
             }
            },
            "type": "table"
           }
          ]
         },
         "layout": {
          "annotationdefaults": {
           "arrowcolor": "#2a3f5f",
           "arrowhead": 0,
           "arrowwidth": 1
          },
          "autotypenumbers": "strict",
          "coloraxis": {
           "colorbar": {
            "outlinewidth": 0,
            "ticks": ""
           }
          },
          "colorscale": {
           "diverging": [
            [
             0,
             "#8e0152"
            ],
            [
             0.1,
             "#c51b7d"
            ],
            [
             0.2,
             "#de77ae"
            ],
            [
             0.3,
             "#f1b6da"
            ],
            [
             0.4,
             "#fde0ef"
            ],
            [
             0.5,
             "#f7f7f7"
            ],
            [
             0.6,
             "#e6f5d0"
            ],
            [
             0.7,
             "#b8e186"
            ],
            [
             0.8,
             "#7fbc41"
            ],
            [
             0.9,
             "#4d9221"
            ],
            [
             1,
             "#276419"
            ]
           ],
           "sequential": [
            [
             0,
             "#0d0887"
            ],
            [
             0.1111111111111111,
             "#46039f"
            ],
            [
             0.2222222222222222,
             "#7201a8"
            ],
            [
             0.3333333333333333,
             "#9c179e"
            ],
            [
             0.4444444444444444,
             "#bd3786"
            ],
            [
             0.5555555555555556,
             "#d8576b"
            ],
            [
             0.6666666666666666,
             "#ed7953"
            ],
            [
             0.7777777777777778,
             "#fb9f3a"
            ],
            [
             0.8888888888888888,
             "#fdca26"
            ],
            [
             1,
             "#f0f921"
            ]
           ],
           "sequentialminus": [
            [
             0,
             "#0d0887"
            ],
            [
             0.1111111111111111,
             "#46039f"
            ],
            [
             0.2222222222222222,
             "#7201a8"
            ],
            [
             0.3333333333333333,
             "#9c179e"
            ],
            [
             0.4444444444444444,
             "#bd3786"
            ],
            [
             0.5555555555555556,
             "#d8576b"
            ],
            [
             0.6666666666666666,
             "#ed7953"
            ],
            [
             0.7777777777777778,
             "#fb9f3a"
            ],
            [
             0.8888888888888888,
             "#fdca26"
            ],
            [
             1,
             "#f0f921"
            ]
           ]
          },
          "colorway": [
           "#636efa",
           "#EF553B",
           "#00cc96",
           "#ab63fa",
           "#FFA15A",
           "#19d3f3",
           "#FF6692",
           "#B6E880",
           "#FF97FF",
           "#FECB52"
          ],
          "font": {
           "color": "#2a3f5f"
          },
          "geo": {
           "bgcolor": "white",
           "lakecolor": "white",
           "landcolor": "#E5ECF6",
           "showlakes": true,
           "showland": true,
           "subunitcolor": "white"
          },
          "hoverlabel": {
           "align": "left"
          },
          "hovermode": "closest",
          "mapbox": {
           "style": "light"
          },
          "paper_bgcolor": "white",
          "plot_bgcolor": "#E5ECF6",
          "polar": {
           "angularaxis": {
            "gridcolor": "white",
            "linecolor": "white",
            "ticks": ""
           },
           "bgcolor": "#E5ECF6",
           "radialaxis": {
            "gridcolor": "white",
            "linecolor": "white",
            "ticks": ""
           }
          },
          "scene": {
           "xaxis": {
            "backgroundcolor": "#E5ECF6",
            "gridcolor": "white",
            "gridwidth": 2,
            "linecolor": "white",
            "showbackground": true,
            "ticks": "",
            "zerolinecolor": "white"
           },
           "yaxis": {
            "backgroundcolor": "#E5ECF6",
            "gridcolor": "white",
            "gridwidth": 2,
            "linecolor": "white",
            "showbackground": true,
            "ticks": "",
            "zerolinecolor": "white"
           },
           "zaxis": {
            "backgroundcolor": "#E5ECF6",
            "gridcolor": "white",
            "gridwidth": 2,
            "linecolor": "white",
            "showbackground": true,
            "ticks": "",
            "zerolinecolor": "white"
           }
          },
          "shapedefaults": {
           "line": {
            "color": "#2a3f5f"
           }
          },
          "ternary": {
           "aaxis": {
            "gridcolor": "white",
            "linecolor": "white",
            "ticks": ""
           },
           "baxis": {
            "gridcolor": "white",
            "linecolor": "white",
            "ticks": ""
           },
           "bgcolor": "#E5ECF6",
           "caxis": {
            "gridcolor": "white",
            "linecolor": "white",
            "ticks": ""
           }
          },
          "title": {
           "x": 0.05
          },
          "xaxis": {
           "automargin": true,
           "gridcolor": "white",
           "linecolor": "white",
           "ticks": "",
           "title": {
            "standoff": 15
           },
           "zerolinecolor": "white",
           "zerolinewidth": 2
          },
          "yaxis": {
           "automargin": true,
           "gridcolor": "white",
           "linecolor": "white",
           "ticks": "",
           "title": {
            "standoff": 15
           },
           "zerolinecolor": "white",
           "zerolinewidth": 2
          }
         }
        },
        "title": {
         "text": "Tree Family's Time To Max Growth Height (Metres)"
        },
        "xaxis": {
         "anchor": "y",
         "domain": [
          0,
          1
         ],
         "title": {
          "text": "TimeToUltimateHeight_Max"
         }
        },
        "yaxis": {
         "anchor": "x",
         "domain": [
          0,
          1
         ],
         "title": {
          "text": "UltimateHeight_Max"
         }
        }
       }
      }
     },
     "metadata": {}
    }
   ],
   "metadata": {}
  }
 ],
 "metadata": {
  "orig_nbformat": 4,
  "language_info": {
   "name": "python",
   "version": "3.9.5",
   "mimetype": "text/x-python",
   "codemirror_mode": {
    "name": "ipython",
    "version": 3
   },
   "pygments_lexer": "ipython3",
   "nbconvert_exporter": "python",
   "file_extension": ".py"
  },
  "kernelspec": {
   "name": "python3",
   "display_name": "Python 3.9.5 64-bit ('python-environment': conda)"
  },
  "interpreter": {
   "hash": "b54640499e4db7ad164d10ed5c348d7d0dd862f6a62078a954638034af1458df"
  }
 },
 "nbformat": 4,
 "nbformat_minor": 2
}