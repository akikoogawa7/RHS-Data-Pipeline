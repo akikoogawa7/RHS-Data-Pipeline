{
 "cells": [
  {
   "cell_type": "code",
   "execution_count": 10,
   "source": [
    "import plotly.express as px\n",
    "import pandas as pd"
   ],
   "outputs": [],
   "metadata": {}
  },
  {
   "cell_type": "code",
   "execution_count": 11,
   "source": [
    "dataframe = pd.read_csv('trees.csv')\n",
    "dataframe = pd.DataFrame(dataframe)"
   ],
   "outputs": [],
   "metadata": {}
  },
  {
   "cell_type": "code",
   "execution_count": 12,
   "source": [
    "colour_scale = ['rgb(255, 10, 50)', 'rgb(3, 252, 40)']"
   ],
   "outputs": [],
   "metadata": {}
  },
  {
   "cell_type": "code",
   "execution_count": 19,
   "source": [
    "fig = px.scatter(dataframe, x='TimeToUltimateHeight_Min', y='TimeToUltimateHeight_Max', color='Family', size='UltimateHeight_Max',hover_data=['CommonName'], color_continuous_scale=colour_scale)\n",
    "fig.show()"
   ],
   "outputs": [
    {
     "output_type": "display_data",
     "data": {
      "application/vnd.plotly.v1+json": {
       "config": {
        "plotlyServerURL": "https://plot.ly"
       },
       "data": [
        {
         "customdata": [
          [
           "common yarrow"
          ],
          [
           "pearly everlasting"
          ],
          [
           "marguerite"
          ],
          [
           "greater burdock"
          ],
          [
           "wormwood"
          ],
          [
           "tree wormwood"
          ],
          [
           "tarragon"
          ],
          [
           "white mugwort"
          ],
          [
           "Roman wormwood"
          ],
          [
           "mountain tobacco"
          ],
          [
           "southernwood"
          ],
          [
           "alpine aster"
          ],
          [
           "large mountain daisy"
          ],
          [
           "common mountain daisy"
          ],
          [
           "giant knapweed"
          ],
          [
           "common knapweed"
          ],
          [
           "greater knapweed"
          ],
          [
           "mealy centaury"
          ],
          [
           "perennial cornflower"
          ],
          [
           "melancholy thistle"
          ],
          [
           "chocolate cosmos"
          ],
          [
           "brass buttons"
          ],
          [
           "pink dandelion"
          ],
          [
           "Merck dahlia"
          ],
          [
           "great leopard's bane"
          ],
          [
           "Caucasian leopard's bane"
          ],
          [
           "great globe thistle"
          ],
          [
           "hemp agrimony"
          ],
          [
           "gravel root"
          ],
          [
           "mountain euryops"
          ],
          [
           "grey-leaved euryops"
          ],
          [
           "Tyson's euruops"
          ],
          [
           "kingfisher daisy"
          ],
          [
           "Hooker inula"
          ],
          [
           "Indian elecampane"
          ],
          [
           "elecampane"
          ],
          [
           "giant inula"
          ],
          [
           "button snakewort"
          ],
          [
           "autumn ox-eye"
          ],
          [
           "leopard plant"
          ],
          [
           "narrow-headed leopard plant"
          ],
          [
           "Wilson's leopard plant"
          ],
          [
           "decurrent mutisia"
          ],
          [
           "New Zealand holly"
          ],
          [
           "akiraho"
          ],
          [
           "Cheeseman's daisy bush"
          ],
          [
           "cotton thistle"
          ],
          [
           "giant butterbur"
          ],
          [
           "Fischer's leopard plant"
          ],
          [
           "lavender cotton"
          ],
          [
           "scarlet dahlia"
          ],
          [
           "Marlborough rock daisy"
          ],
          [
           "willow-leaved sunflower"
          ],
          [
           "Przewalski's golden ray"
          ],
          [
           "blue cupidone"
          ],
          [
           "kerosene weed"
          ],
          [
           "Balkan yarrow"
          ],
          [
           "Madeira marguerite"
          ],
          [
           "Arizona beggarticks"
          ],
          [
           "fern-leaved beggar-ticks"
          ],
          [
           "yellow ox eye"
          ],
          [
           "amaranth feathers"
          ],
          [
           "false saffron"
          ],
          [
           "chamomile"
          ],
          [
           "cosmea"
          ],
          [
           "Austrian leopard's bane"
          ],
          [
           "Mexican fleabane"
          ],
          [
           "American boneset"
          ],
          [
           "ox-eye daisy"
          ],
          [
           "curry plant"
          ],
          [
           "purple coneflower"
          ],
          [
           "chicory"
          ],
          [
           "Moroccan daisy"
          ],
          [
           "western mugwort"
          ],
          [
           "winter heliotrope"
          ],
          [
           "noble yarrow"
          ],
          [
           "cornflower"
          ],
          [
           "large-leaved yarrow"
          ],
          [
           "Bush's purple coneflower"
          ],
          [
           "Victorian snowbush"
          ],
          [
           "cabbage thistle"
          ],
          [
           "dusty miller"
          ],
          [
           "delightful African daisy"
          ],
          [
           "one-flowered treasure flower"
          ],
          [
           "globe artichoke"
          ],
          [
           "marsh thistle"
          ],
          [
           "sea rosemary"
          ],
          [
           "rosemary-leaved lavender cotton"
          ],
          [
           "Yedoan pearly everlasting"
          ],
          [
           "Sicilian chamomile"
          ],
          [
           "creeping thistle"
          ],
          [
           "yellow cosmos"
          ],
          [
           "Hokkaido chrysanthemum"
          ],
          [
           "stapelioid kleinia"
          ],
          [
           "white snakeroot"
          ],
          [
           "purple berkheya"
          ],
          [
           "China aster"
          ],
          [
           "privet-leaved ageratina"
          ],
          [
           "spotted hawkweed"
          ],
          [
           "giant sow thistle"
          ]
         ],
         "hovertemplate": "Family=Asteraceae<br>TimeToUltimateHeight_Min=%{x}<br>TimeToUltimateHeight_Max=%{y}<br>UltimateHeight_Max=%{marker.size}<br>CommonName=%{customdata[0]}<extra></extra>",
         "legendgroup": "Asteraceae",
         "marker": {
          "color": "#636efa",
          "size": [
           0.5,
           1,
           1,
           2.5,
           1,
           1,
           1,
           1.5,
           1,
           0.5,
           1,
           0.5,
           0.5,
           0.5,
           1.5,
           1,
           1,
           1,
           0.5,
           1.5,
           1,
           0.5,
           0.5,
           2.5,
           1,
           0.5,
           2.5,
           1.5,
           2.5,
           0.5,
           1,
           1,
           1,
           1,
           2.5,
           2.5,
           2.5,
           1,
           1.5,
           1.5,
           1.5,
           2.5,
           2.5,
           4,
           8,
           4,
           4,
           1.5,
           2.5,
           0.5,
           1.5,
           1,
           2.5,
           2.5,
           1,
           1,
           0.5,
           0.5,
           1.5,
           0.5,
           1,
           2.5,
           1,
           0.5,
           2.5,
           1.5,
           0.5,
           1.5,
           1,
           0.5,
           1.5,
           1.5,
           0.5,
           1.5,
           1,
           0.5,
           1,
           1,
           1,
           1.5,
           1.5,
           1,
           0.5,
           0.5,
           2.5,
           1.5,
           2.5,
           0.5,
           0.5,
           0.5,
           1,
           0.5,
           0.5,
           0.5,
           2.5,
           1,
           1,
           4,
           0.5,
           2.5
          ],
          "sizemode": "area",
          "sizeref": 0.03,
          "symbol": "circle"
         },
         "mode": "markers",
         "name": "Asteraceae",
         "orientation": "v",
         "showlegend": true,
         "type": "scatter",
         "x": [
          2,
          2,
          1,
          1,
          2,
          2,
          2,
          2,
          2,
          2,
          5,
          2,
          2,
          2,
          2,
          2,
          2,
          2,
          2,
          2,
          2,
          2,
          2,
          2,
          2,
          2,
          2,
          2,
          2,
          5,
          5,
          5,
          1,
          2,
          2,
          2,
          2,
          2,
          2,
          2,
          2,
          2,
          2,
          10,
          10,
          10,
          2,
          2,
          2,
          5,
          2,
          5,
          2,
          2,
          2,
          5,
          2,
          1,
          2,
          1,
          2,
          1,
          1,
          2,
          1,
          2,
          2,
          2,
          2,
          2,
          2,
          1,
          2,
          2,
          2,
          2,
          1,
          2,
          2,
          10,
          2,
          2,
          2,
          1,
          2,
          1,
          5,
          5,
          2,
          2,
          2,
          1,
          2,
          5,
          2,
          2,
          1,
          10,
          2,
          2
         ],
         "xaxis": "x",
         "y": [
          5,
          5,
          2,
          2,
          5,
          5,
          5,
          5,
          5,
          5,
          10,
          5,
          5,
          5,
          5,
          5,
          5,
          5,
          5,
          5,
          5,
          5,
          5,
          5,
          5,
          5,
          5,
          5,
          5,
          10,
          10,
          10,
          2,
          5,
          5,
          5,
          5,
          5,
          5,
          5,
          5,
          5,
          5,
          20,
          20,
          20,
          5,
          5,
          5,
          10,
          5,
          10,
          5,
          5,
          5,
          10,
          5,
          2,
          5,
          2,
          5,
          2,
          2,
          5,
          2,
          5,
          5,
          5,
          5,
          5,
          5,
          2,
          5,
          5,
          5,
          5,
          2,
          5,
          5,
          20,
          5,
          5,
          5,
          2,
          5,
          2,
          10,
          10,
          5,
          5,
          5,
          1,
          5,
          10,
          5,
          5,
          1,
          20,
          5,
          5
         ],
         "yaxis": "y"
        },
        {
         "customdata": [
          [
           "white baneberry"
          ],
          [
           "Carmichael's monk's hood"
          ],
          [
           "monk's hood"
          ],
          [
           "red baneberry"
          ],
          [
           "blue anemone"
          ],
          [
           "flaccid anemone"
          ],
          [
           "wood anemone"
          ],
          [
           "round-leaved anemone"
          ],
          [
           "snowdrop windflower"
          ],
          [
           "false anemone"
          ],
          [
           "Chinese anemone"
          ],
          [
           "peacock windflower"
          ],
          [
           "riverside windflower"
          ],
          [
           "alpine columbine"
          ],
          [
           "Bertoloni columbine"
          ],
          [
           "green-flowered columbine"
          ],
          [
           "Canadian columbine"
          ],
          [
           "golden columbine"
          ],
          [
           "marigold-leaved beesia"
          ],
          [
           "marsh marigold"
          ],
          [
           "Armand clematis"
          ],
          [
           "evergreen clematis"
          ],
          [
           "solitary clematis"
          ],
          [
           "ground clematis"
          ],
          [
           "Austrian clematis"
          ],
          [
           "sweet-scented virgin's bower"
          ],
          [
           "tube clematis"
          ],
          [
           "downy clematis"
          ],
          [
           "mountain clematis"
          ],
          [
           "Nepal clematis"
          ],
          [
           "nodding virgin's bower"
          ],
          [
           "Korean clematis"
          ],
          [
           "golden clematis"
          ],
          [
           "five-leaved goldthread"
          ],
          [
           "candle larkspur"
          ],
          [
           "large-flowered delphinium"
          ],
          [
           "red pasqueflower"
          ],
          [
           "Haller's pasqueflower"
          ],
          [
           "pasqueflower"
          ],
          [
           "Persian buttercup"
          ],
          [
           "grass-leaved buttercup"
          ],
          [
           "creeping buttercup"
          ],
          [
           "yellow root"
          ],
          [
           "sharp-lobed liverleaf"
          ],
          [
           "Tibetan hellebore"
          ],
          [
           "Chinese globeflower"
          ],
          [
           "Japanese monk's hood"
          ],
          [
           "purple clematis"
          ],
          [
           "baneberry"
          ],
          [
           "climbing monk's hood"
          ],
          [
           "dwarf white fan-leaved columbine"
          ],
          [
           "meadow buttercup"
          ],
          [
           "Neapolitan wolf's bane"
          ],
          [
           "lavender mist meadow rue"
          ],
          [
           "white marsh marigold"
          ],
          [
           "Mexican columbine"
          ],
          [
           "thread-like meadow rue"
          ],
          [
           "Morison's meadow rue"
          ],
          [
           "Asian clematis"
          ],
          [
           "Chinese clematis"
          ],
          [
           "parsley-leaved pasqueflower"
          ],
          [
           "greater pasqueflower"
          ],
          [
           "swamp marsh marigold"
          ],
          [
           "glaucous-leaved yellow meadow rue"
          ],
          [
           "love-in-a-mist"
          ],
          [
           "Croatian hellebore"
          ],
          [
           "Rocky Mountain columbine"
          ],
          [
           "Spanish fennel flower"
          ],
          [
           "cohosh bugbane"
          ],
          [
           "heart-shaped-leaved actaea"
          ],
          [
           "Maire's actaea"
          ],
          [
           "Japanese bugbane"
          ]
         ],
         "hovertemplate": "Family=Ranunculaceae<br>TimeToUltimateHeight_Min=%{x}<br>TimeToUltimateHeight_Max=%{y}<br>UltimateHeight_Max=%{marker.size}<br>CommonName=%{customdata[0]}<extra></extra>",
         "legendgroup": "Ranunculaceae",
         "marker": {
          "color": "#EF553B",
          "size": [
           1,
           2.5,
           1.5,
           0.5,
           0.5,
           0.5,
           0.5,
           0.5,
           1,
           1,
           1,
           0.5,
           1,
           1,
           0.5,
           0.5,
           1,
           1,
           0.5,
           0.5,
           8,
           4,
           2.5,
           1.5,
           2.5,
           4,
           1,
           2.5,
           12,
           4,
           8,
           4,
           8,
           0.5,
           2.5,
           0.5,
           0.5,
           0.5,
           0.5,
           0.5,
           0.5,
           0.5,
           1,
           0.5,
           0.5,
           1,
           1,
           4,
           0.5,
           4,
           0.5,
           1,
           1.5,
           1,
           0.5,
           1,
           1,
           2.5,
           1.5,
           8,
           0.5,
           0.5,
           0.5,
           1.5,
           0.5,
           0.5,
           0.5,
           0.5,
           1.5,
           1.5,
           2.5,
           1
          ],
          "sizemode": "area",
          "sizeref": 0.03,
          "symbol": "circle"
         },
         "mode": "markers",
         "name": "Ranunculaceae",
         "orientation": "v",
         "showlegend": true,
         "type": "scatter",
         "x": [
          2,
          2,
          2,
          2,
          2,
          2,
          2,
          2,
          2,
          2,
          2,
          2,
          2,
          2,
          2,
          2,
          2,
          1,
          5,
          2,
          5,
          2,
          2,
          2,
          2,
          2,
          2,
          2,
          5,
          2,
          2,
          2,
          2,
          5,
          2,
          1,
          2,
          2,
          2,
          2,
          1,
          1,
          5,
          2,
          2,
          2,
          2,
          2,
          2,
          2,
          2,
          2,
          2,
          2,
          2,
          2,
          2,
          2,
          2,
          2,
          2,
          2,
          2,
          2,
          1,
          2,
          2,
          1,
          2,
          2,
          2,
          2
         ],
         "xaxis": "x",
         "y": [
          5,
          5,
          5,
          5,
          5,
          5,
          5,
          5,
          5,
          5,
          5,
          5,
          5,
          5,
          5,
          5,
          5,
          2,
          10,
          5,
          10,
          5,
          5,
          5,
          5,
          5,
          5,
          5,
          10,
          5,
          5,
          5,
          5,
          10,
          5,
          1,
          5,
          5,
          5,
          5,
          2,
          2,
          10,
          5,
          5,
          5,
          5,
          5,
          5,
          5,
          5,
          5,
          5,
          5,
          5,
          5,
          5,
          5,
          5,
          5,
          5,
          5,
          5,
          5,
          2,
          5,
          5,
          2,
          5,
          5,
          5,
          5
         ],
         "yaxis": "y"
        },
        {
         "customdata": [
          [
           "creeping agapetes"
          ],
          [
           "hybrid strawberry tree"
          ],
          [
           "strawberry tree"
          ],
          [
           "heather"
          ],
          [
           "leatherleaf"
          ],
          [
           "dodan-tsutsuji"
          ],
          [
           "redvein enkianthus"
          ],
          [
           "Himalayan red bells"
          ],
          [
           "bell heather"
          ],
          [
           "alpine heath"
          ],
          [
           "Portugal heath"
          ],
          [
           "Corsican heath"
          ],
          [
           "whorl heath"
          ],
          [
           "channelled heath"
          ],
          [
           "glandular heath"
          ],
          [
           "white bottlebrush heath"
          ],
          [
           "colour-changing heath"
          ],
          [
           "bog kalmia"
          ],
          [
           "kalmiopsis"
          ],
          [
           "sheep laurel"
          ],
          [
           "mountain laurel"
          ],
          [
           "dog hobble"
          ],
          [
           "sorrel tree"
          ],
          [
           "Aleutian mountainheath"
          ],
          [
           "Taiwan pieris"
          ],
          [
           "tree-like rhododendron"
          ],
          [
           "Augustine's rhododendron"
          ],
          [
           "Bureau rhododendron"
          ],
          [
           "beautiful-face rhododendron"
          ],
          [
           "smooth azalea"
          ],
          [
           "Falconer rhododendron"
          ],
          [
           "alpenrose"
          ],
          [
           "Kamchatka rhododendron"
          ],
          [
           "Dahurian rhododendron"
          ],
          [
           "concave-leaf rhododendron"
          ],
          [
           "Lindley's rhododendron"
          ],
          [
           "dwarf purple rhododendron"
          ],
          [
           "Kyushu azalea"
          ],
          [
           "milky-white rhododendron"
          ],
          [
           "western azalea"
          ],
          [
           "yellow azalea"
          ],
          [
           "false-gold-flower rhododendron"
          ],
          [
           "snowy rhododendron"
          ],
          [
           "racemose rhododendron"
          ],
          [
           "purplish-blue rhododendron"
          ],
          [
           "royal azalea"
          ],
          [
           "king rhododendron"
          ],
          [
           "Szechwan rhododendron"
          ],
          [
           "swamp azalea"
          ],
          [
           "Yakushima rhododendron"
          ],
          [
           "Yunnan rhododendron"
          ],
          [
           "pink-shell azalea"
          ],
          [
           "Williams rhododendron"
          ],
          [
           "dusty zenobia"
          ],
          [
           "cork azalea"
          ],
          [
           "ninepin heath"
          ],
          [
           "thick-flowered rhododendron"
          ],
          [
           "prickly heath"
          ],
          [
           "Chinese enkianthus"
          ],
          [
           "grey-white blueberry"
          ],
          [
           "fire heath"
          ],
          [
           "drooping red enkianthus"
          ],
          [
           "red sheep laurel"
          ],
          [
           "Makino rhododendron"
          ],
          [
           "alpine tree heather"
          ],
          [
           "Père Farges rhododendron"
          ],
          [
           "false milky-yellow rhododendron"
          ],
          [
           "pink strawberry tree"
          ],
          [
           "notable rhododendron"
          ],
          [
           "Labrador tea"
          ],
          [
           "bent-style rhododendron"
          ],
          [
           "Sinofalconer rhododendron"
          ]
         ],
         "hovertemplate": "Family=Ericaceae<br>TimeToUltimateHeight_Min=%{x}<br>TimeToUltimateHeight_Max=%{y}<br>UltimateHeight_Max=%{marker.size}<br>CommonName=%{customdata[0]}<extra></extra>",
         "legendgroup": "Ericaceae",
         "marker": {
          "color": "#00cc96",
          "size": [
           1.5,
           8,
           8,
           1,
           1,
           2.5,
           4,
           4,
           1,
           0.5,
           2.5,
           1,
           1.5,
           4,
           1.5,
           2.5,
           4,
           1,
           0.5,
           1,
           2.5,
           1.5,
           12,
           0.5,
           8,
           12,
           2.5,
           2.5,
           12,
           4,
           12,
           1,
           0.5,
           2.5,
           4,
           1.5,
           1,
           1.5,
           8,
           2.5,
           4,
           2.5,
           8,
           2.5,
           1.5,
           8,
           12,
           8,
           2.5,
           1.5,
           8,
           8,
           1.5,
           1.5,
           4,
           2.5,
           2.5,
           1.5,
           4,
           1.5,
           1.5,
           2.5,
           1,
           2.5,
           2.5,
           8,
           12,
           8,
           8,
           1,
           1,
           8
          ],
          "sizemode": "area",
          "sizeref": 0.03,
          "symbol": "circle"
         },
         "mode": "markers",
         "name": "Ericaceae",
         "orientation": "v",
         "showlegend": true,
         "type": "scatter",
         "x": [
          2,
          10,
          10,
          2,
          2,
          10,
          20,
          20,
          5,
          2,
          5,
          5,
          5,
          5,
          5,
          10,
          10,
          5,
          5,
          10,
          10,
          10,
          20,
          5,
          10,
          20,
          10,
          10,
          10,
          10,
          10,
          10,
          5,
          5,
          10,
          10,
          5,
          5,
          10,
          10,
          10,
          10,
          10,
          5,
          5,
          10,
          10,
          20,
          10,
          10,
          10,
          5,
          10,
          5,
          10,
          10,
          10,
          10,
          20,
          10,
          5,
          10,
          10,
          10,
          10,
          5,
          10,
          10,
          10,
          5,
          5,
          10
         ],
         "xaxis": "x",
         "y": [
          5,
          20,
          20,
          5,
          5,
          20,
          50,
          50,
          10,
          5,
          10,
          10,
          10,
          10,
          10,
          20,
          20,
          10,
          10,
          20,
          20,
          20,
          50,
          10,
          20,
          50,
          20,
          20,
          20,
          20,
          20,
          20,
          10,
          10,
          20,
          20,
          10,
          10,
          20,
          20,
          20,
          20,
          20,
          10,
          10,
          20,
          20,
          50,
          20,
          20,
          20,
          10,
          20,
          10,
          20,
          20,
          20,
          20,
          50,
          20,
          10,
          20,
          20,
          20,
          20,
          10,
          20,
          20,
          20,
          10,
          10,
          20
         ],
         "yaxis": "y"
        },
        {
         "customdata": [
          [
           "lady's mantle"
          ],
          [
           "serviceberry"
          ],
          [
           "snowy mespilus"
          ],
          [
           "goat's beard"
          ],
          [
           "goat's beard"
          ],
          [
           "Japanese quince"
          ],
          [
           "Japanese quince"
          ],
          [
           "hollyberry cotoneaster"
          ],
          [
           "Diels' cotoneaster"
          ],
          [
           "late cotoneaster"
          ],
          [
           "creeping cotoneaster"
          ],
          [
           "Tibetan cotoneaster"
          ],
          [
           "bearberry cotoneaster"
          ],
          [
           "Franchet's cotoneaster"
          ],
          [
           "Stern's cotoneaster"
          ],
          [
           "wall spray"
          ],
          [
           "willow-leaved cotoneaster"
          ],
          [
           "common hawthorn"
          ],
          [
           "tansy-leaved thorn"
          ],
          [
           "quince"
          ],
          [
           "loquat"
          ],
          [
           "dropwort"
          ],
          [
           "alpine strawberry"
          ],
          [
           "purple meadowsweet"
          ],
          [
           "Hupeh crab"
          ],
          [
           "Chonosuki crab"
          ],
          [
           "common medlar"
          ],
          [
           "Tibetan neillia"
          ],
          [
           "Alabama snow wreath"
          ],
          [
           "oso berry"
          ],
          [
           "stranvaesia"
          ],
          [
           "oriental photinia"
          ],
          [
           "marsh cinquefoil"
          ],
          [
           "dark crimson cinquefoil"
          ],
          [
           "large-flowered cinquefoil"
          ],
          [
           "creeping cinquefoil"
          ],
          [
           "Himalayan cherry prinsepia"
          ],
          [
           "Himalayan cherry"
          ],
          [
           "blackthorn"
          ],
          [
           "Asian firethorn"
          ],
          [
           "Yeddo hawthorn"
          ],
          [
           "musk rose"
          ],
          [
           "Moyes rose"
          ],
          [
           "shining rose"
          ],
          [
           "beautiful cotoneaster"
          ],
          [
           "Himalyan cotoneaster"
          ],
          [
           "burr rose"
          ],
          [
           "Himalayan cherry"
          ],
          [
           "steeple bush"
          ],
          [
           "Sikang cotoneaster"
          ],
          [
           "Gibbs' firethorn"
          ],
          [
           "salad burnet"
          ],
          [
           "Nepalese cinquefoil"
          ],
          [
           "dwarf lady's mantle"
          ],
          [
           "snowy mespilus"
          ],
          [
           "Harrow cotoneaster"
          ],
          [
           "blue hawthorn"
          ],
          [
           "meadowsweet"
          ],
          [
           "Virginian rose"
          ],
          [
           "Scotch rose"
          ],
          [
           "Helen's rose"
          ],
          [
           "crab apple"
          ],
          [
           "eastern thorn"
          ],
          [
           "Thunberg spiraea"
          ],
          [
           "Catalina ironwood"
          ],
          [
           "white-flowered burnet"
          ],
          [
           "winged thorn rose"
          ],
          [
           "Kirilow false spiraea"
          ],
          [
           "Gongga Shan mountain ash"
          ],
          [
           "cut-leaf crabapple"
          ],
          [
           "Hugo's rose"
          ],
          [
           "purple chokeberry"
          ],
          [
           "apothecary's rose"
          ],
          [
           "bramble rose"
          ],
          [
           "barberry-leaved rose"
          ],
          [
           "Chinese flowering quince"
          ]
         ],
         "hovertemplate": "Family=Rosaceae<br>TimeToUltimateHeight_Min=%{x}<br>TimeToUltimateHeight_Max=%{y}<br>UltimateHeight_Max=%{marker.size}<br>CommonName=%{customdata[0]}<extra></extra>",
         "legendgroup": "Rosaceae",
         "marker": {
          "color": "#ab63fa",
          "size": [
           0.5,
           8,
           8,
           0.5,
           2.5,
           1.5,
           2.5,
           4,
           4,
           4,
           0.5,
           1.5,
           0.5,
           4,
           4,
           1,
           8,
           8,
           8,
           4,
           8,
           1,
           0.5,
           1,
           8,
           12,
           8,
           2.5,
           2.5,
           2.5,
           8,
           8,
           0.5,
           1,
           0.5,
           0.5,
           2.5,
           8,
           4,
           4,
           1.5,
           4,
           4,
           1,
           2.5,
           2.5,
           8,
           8,
           2.5,
           4,
           4,
           1,
           1,
           0.5,
           12,
           4,
           8,
           1,
           1.5,
           1,
           8,
           12,
           8,
           1.5,
           12,
           1,
           2.5,
           4,
           4,
           8,
           2.5,
           4,
           1,
           8,
           0.5,
           4
          ],
          "sizemode": "area",
          "sizeref": 0.03,
          "symbol": "circle"
         },
         "mode": "markers",
         "name": "Rosaceae",
         "orientation": "v",
         "showlegend": true,
         "type": "scatter",
         "x": [
          2,
          5,
          10,
          2,
          2,
          5,
          5,
          10,
          10,
          10,
          10,
          5,
          10,
          10,
          10,
          10,
          10,
          20,
          20,
          10,
          20,
          2,
          1,
          2,
          10,
          10,
          20,
          2,
          5,
          5,
          10,
          10,
          2,
          2,
          2,
          1,
          5,
          20,
          20,
          10,
          10,
          2,
          2,
          2,
          10,
          10,
          5,
          10,
          10,
          5,
          10,
          1,
          2,
          2,
          10,
          10,
          20,
          2,
          2,
          2,
          5,
          20,
          20,
          10,
          20,
          2,
          2,
          10,
          10,
          10,
          2,
          5,
          2,
          5,
          2,
          5
         ],
         "xaxis": "x",
         "y": [
          5,
          10,
          20,
          5,
          5,
          10,
          10,
          20,
          20,
          20,
          20,
          10,
          20,
          20,
          20,
          20,
          20,
          50,
          50,
          20,
          50,
          5,
          2,
          5,
          20,
          20,
          50,
          5,
          10,
          10,
          20,
          20,
          5,
          5,
          5,
          2,
          10,
          50,
          50,
          20,
          20,
          5,
          5,
          5,
          20,
          20,
          10,
          20,
          20,
          10,
          20,
          2,
          5,
          5,
          20,
          20,
          50,
          5,
          5,
          5,
          10,
          50,
          50,
          20,
          50,
          5,
          5,
          20,
          20,
          20,
          5,
          10,
          5,
          10,
          5,
          10
         ],
         "yaxis": "y"
        },
        {
         "customdata": [
          [
           "foxtail agave"
          ],
          [
           "Utah aloe"
          ],
          [
           "royal agave"
          ],
          [
           "Nelson's slime lily"
          ],
          [
           "Shaw's albuca"
          ],
          [
           "St Bernard's lily"
          ],
          [
           "branched St Bernard's lily"
          ],
          [
           "common aspidistra"
          ],
          [
           "rock lily"
          ],
          [
           "elephant's foot"
          ],
          [
           "amethyst hyacinth"
          ],
          [
           "Cusick's camass"
          ],
          [
           "common camassia"
          ],
          [
           "mountain cabbage tree"
          ],
          [
           "lily of the valley"
          ],
          [
           "cabbage palm"
          ],
          [
           "sandpaper sotol"
          ],
          [
           "Alexandrian laurel"
          ],
          [
           "firecracker flower"
          ],
          [
           "dragon tree"
          ],
          [
           "two-coloured pineapple lily"
          ],
          [
           "pineapple flower"
          ],
          [
           "narrow-leaved plantain lily"
          ],
          [
           "Siebold's plantain lily"
          ],
          [
           "handsome plantain lily"
          ],
          [
           "Spanish bluebell"
          ],
          [
           "big blue lilyturf"
          ],
          [
           "false lily of the valley"
          ],
          [
           "Armenian grape hyacinth"
          ],
          [
           "Aucher-Eloy grape hyacinth"
          ],
          [
           "broad-leaved grape hyacinth"
          ],
          [
           "common grape hyacinth"
          ],
          [
           "Chalus grape hyacinth"
          ],
          [
           "drooping star of Bethlehem"
          ],
          [
           "wonder flower"
          ],
          [
           "common star of Bethlehem"
          ],
          [
           "St Bruno's lily"
          ],
          [
           "sickle-shaped Solomon's seal"
          ],
          [
           "angular Solomon's seal"
          ],
          [
           "Spanish bayonet"
          ],
          [
           "needle palm"
          ],
          [
           "Spanish dagger"
          ],
          [
           "small-flowered agave"
          ],
          [
           "Our Lord's candle"
          ],
          [
           "Henry's false Solomon's seal"
          ],
          [
           "great Solomon's seal"
          ],
          [
           "coral drops"
          ],
          [
           "spoon flower"
          ],
          [
           "Misczenko squill"
          ],
          [
           "ookow"
          ],
          [
           "Pyrenean squill"
          ],
          [
           "asparagus fern"
          ],
          [
           "yucca-leaved beschorneria"
          ],
          [
           "Perny disporopsis"
          ],
          [
           "Madagascar dragon tree"
          ],
          [
           "autumn pineapple lily"
          ],
          [
           "blistered Cape cowslip"
          ],
          [
           "mountain plantain lily"
          ],
          [
           "lily-flowered Cape cowslip"
          ],
          [
           "banana yucca"
          ],
          [
           "ferocious giant agave"
          ],
          [
           "rosy lily of the valley"
          ],
          [
           "Italian bluebell"
          ],
          [
           "spineless yucca"
          ],
          [
           "thread agave"
          ],
          [
           "corkscrew albuca"
          ],
          [
           "midsummer plantain lily"
          ],
          [
           "century plant"
          ],
          [
           "Japanese rock hosta"
          ],
          [
           "hedgehog"
          ],
          [
           "montane pineapple lily"
          ],
          [
           "northern beschorneria"
          ],
          [
           "Havard's agave"
          ],
          [
           "mountain agave"
          ],
          [
           "star-flowered lily of the valley"
          ],
          [
           "large-thorned agave"
          ],
          [
           "St. Peter's palm"
          ],
          [
           "Van Der Merwe pineapple lily"
          ],
          [
           "cabbage head agave"
          ],
          [
           "dark-flowered agave"
          ]
         ],
         "hovertemplate": "Family=Asparagaceae<br>TimeToUltimateHeight_Min=%{x}<br>TimeToUltimateHeight_Max=%{y}<br>UltimateHeight_Max=%{marker.size}<br>CommonName=%{customdata[0]}<extra></extra>",
         "legendgroup": "Asparagaceae",
         "marker": {
          "color": "#FFA15A",
          "size": [
           1.5,
           0.5,
           0.5,
           1.5,
           0.5,
           1,
           1,
           1,
           1,
           2.5,
           0.5,
           1,
           1,
           4,
           0.5,
           8,
           1.5,
           1.5,
           0.5,
           8,
           0.5,
           1,
           0.5,
           1,
           0.5,
           0.5,
           0.5,
           0.5,
           0.5,
           0.5,
           0.5,
           0.5,
           0.5,
           0.5,
           1,
           0.5,
           1,
           1,
           1,
           2.5,
           1,
           2.5,
           0.5,
           1,
           1,
           2.5,
           1,
           8,
           0.5,
           1,
           0.5,
           2.5,
           1.5,
           0.5,
           4,
           0.5,
           0.5,
           1,
           0.5,
           2.5,
           4,
           0.5,
           0.5,
           12,
           0.5,
           0.5,
           1.5,
           1.5,
           1,
           0.5,
           0.5,
           1.5,
           1,
           1.5,
           1,
           1,
           12,
           0.5,
           1,
           1.5
          ],
          "sizemode": "area",
          "sizeref": 0.03,
          "symbol": "circle"
         },
         "mode": "markers",
         "name": "Asparagaceae",
         "orientation": "v",
         "showlegend": true,
         "type": "scatter",
         "x": [
          10,
          5,
          5,
          2,
          2,
          2,
          2,
          10,
          2,
          20,
          2,
          2,
          2,
          10,
          2,
          20,
          5,
          10,
          2,
          20,
          2,
          2,
          2,
          2,
          2,
          2,
          2,
          2,
          2,
          2,
          2,
          2,
          2,
          2,
          1,
          1,
          2,
          2,
          2,
          10,
          10,
          10,
          5,
          5,
          2,
          2,
          2,
          10,
          2,
          2,
          2,
          2,
          5,
          2,
          10,
          2,
          2,
          2,
          2,
          10,
          10,
          2,
          2,
          20,
          10,
          1,
          2,
          10,
          2,
          10,
          2,
          5,
          10,
          10,
          2,
          10,
          20,
          2,
          10,
          10
         ],
         "xaxis": "x",
         "y": [
          20,
          10,
          10,
          5,
          5,
          5,
          5,
          20,
          5,
          50,
          5,
          5,
          5,
          20,
          5,
          50,
          10,
          20,
          5,
          50,
          5,
          5,
          5,
          5,
          5,
          5,
          5,
          5,
          5,
          5,
          5,
          5,
          5,
          5,
          2,
          2,
          5,
          5,
          5,
          20,
          20,
          20,
          10,
          10,
          5,
          5,
          5,
          20,
          5,
          5,
          5,
          5,
          10,
          5,
          20,
          5,
          5,
          5,
          5,
          20,
          20,
          5,
          5,
          50,
          20,
          2,
          5,
          20,
          5,
          20,
          5,
          10,
          20,
          20,
          5,
          20,
          50,
          5,
          20,
          20
         ],
         "yaxis": "y"
        },
        {
         "customdata": [
          [
           "lanceolate azara"
          ],
          [
           "saw-toothed azara"
          ],
          [
           "box-leaf azara"
          ],
          [
           "Yezo dwarf willow"
          ],
          [
           "silvery creeping willow"
          ],
          [
           "Japanese fodder willow"
          ],
          [
           "musk willow"
          ],
          [
           "coastal willow"
          ],
          [
           "coyote willow"
          ],
          [
           "violet willow"
          ],
          [
           "goat horn tree"
          ]
         ],
         "hovertemplate": "Family=Salicaceae<br>TimeToUltimateHeight_Min=%{x}<br>TimeToUltimateHeight_Max=%{y}<br>UltimateHeight_Max=%{marker.size}<br>CommonName=%{customdata[0]}<extra></extra>",
         "legendgroup": "Salicaceae",
         "marker": {
          "color": "#19d3f3",
          "size": [
           8,
           4,
           8,
           0.5,
           1,
           8,
           8,
           8,
           4,
           8,
           12
          ],
          "sizemode": "area",
          "sizeref": 0.03,
          "symbol": "circle"
         },
         "mode": "markers",
         "name": "Salicaceae",
         "orientation": "v",
         "showlegend": true,
         "type": "scatter",
         "x": [
          10,
          10,
          20,
          5,
          5,
          10,
          10,
          10,
          5,
          10,
          50
         ],
         "xaxis": "x",
         "y": [
          20,
          20,
          50,
          10,
          10,
          20,
          20,
          20,
          10,
          20,
          50
         ],
         "yaxis": "y"
        }
       ],
       "layout": {
        "legend": {
         "itemsizing": "constant",
         "title": {
          "text": "Family"
         },
         "tracegroupgap": 0
        },
        "margin": {
         "t": 60
        },
        "template": {
         "data": {
          "bar": [
           {
            "error_x": {
             "color": "#2a3f5f"
            },
            "error_y": {
             "color": "#2a3f5f"
            },
            "marker": {
             "line": {
              "color": "#E5ECF6",
              "width": 0.5
             }
            },
            "type": "bar"
           }
          ],
          "barpolar": [
           {
            "marker": {
             "line": {
              "color": "#E5ECF6",
              "width": 0.5
             }
            },
            "type": "barpolar"
           }
          ],
          "carpet": [
           {
            "aaxis": {
             "endlinecolor": "#2a3f5f",
             "gridcolor": "white",
             "linecolor": "white",
             "minorgridcolor": "white",
             "startlinecolor": "#2a3f5f"
            },
            "baxis": {
             "endlinecolor": "#2a3f5f",
             "gridcolor": "white",
             "linecolor": "white",
             "minorgridcolor": "white",
             "startlinecolor": "#2a3f5f"
            },
            "type": "carpet"
           }
          ],
          "choropleth": [
           {
            "colorbar": {
             "outlinewidth": 0,
             "ticks": ""
            },
            "type": "choropleth"
           }
          ],
          "contour": [
           {
            "colorbar": {
             "outlinewidth": 0,
             "ticks": ""
            },
            "colorscale": [
             [
              0,
              "#0d0887"
             ],
             [
              0.1111111111111111,
              "#46039f"
             ],
             [
              0.2222222222222222,
              "#7201a8"
             ],
             [
              0.3333333333333333,
              "#9c179e"
             ],
             [
              0.4444444444444444,
              "#bd3786"
             ],
             [
              0.5555555555555556,
              "#d8576b"
             ],
             [
              0.6666666666666666,
              "#ed7953"
             ],
             [
              0.7777777777777778,
              "#fb9f3a"
             ],
             [
              0.8888888888888888,
              "#fdca26"
             ],
             [
              1,
              "#f0f921"
             ]
            ],
            "type": "contour"
           }
          ],
          "contourcarpet": [
           {
            "colorbar": {
             "outlinewidth": 0,
             "ticks": ""
            },
            "type": "contourcarpet"
           }
          ],
          "heatmap": [
           {
            "colorbar": {
             "outlinewidth": 0,
             "ticks": ""
            },
            "colorscale": [
             [
              0,
              "#0d0887"
             ],
             [
              0.1111111111111111,
              "#46039f"
             ],
             [
              0.2222222222222222,
              "#7201a8"
             ],
             [
              0.3333333333333333,
              "#9c179e"
             ],
             [
              0.4444444444444444,
              "#bd3786"
             ],
             [
              0.5555555555555556,
              "#d8576b"
             ],
             [
              0.6666666666666666,
              "#ed7953"
             ],
             [
              0.7777777777777778,
              "#fb9f3a"
             ],
             [
              0.8888888888888888,
              "#fdca26"
             ],
             [
              1,
              "#f0f921"
             ]
            ],
            "type": "heatmap"
           }
          ],
          "heatmapgl": [
           {
            "colorbar": {
             "outlinewidth": 0,
             "ticks": ""
            },
            "colorscale": [
             [
              0,
              "#0d0887"
             ],
             [
              0.1111111111111111,
              "#46039f"
             ],
             [
              0.2222222222222222,
              "#7201a8"
             ],
             [
              0.3333333333333333,
              "#9c179e"
             ],
             [
              0.4444444444444444,
              "#bd3786"
             ],
             [
              0.5555555555555556,
              "#d8576b"
             ],
             [
              0.6666666666666666,
              "#ed7953"
             ],
             [
              0.7777777777777778,
              "#fb9f3a"
             ],
             [
              0.8888888888888888,
              "#fdca26"
             ],
             [
              1,
              "#f0f921"
             ]
            ],
            "type": "heatmapgl"
           }
          ],
          "histogram": [
           {
            "marker": {
             "colorbar": {
              "outlinewidth": 0,
              "ticks": ""
             }
            },
            "type": "histogram"
           }
          ],
          "histogram2d": [
           {
            "colorbar": {
             "outlinewidth": 0,
             "ticks": ""
            },
            "colorscale": [
             [
              0,
              "#0d0887"
             ],
             [
              0.1111111111111111,
              "#46039f"
             ],
             [
              0.2222222222222222,
              "#7201a8"
             ],
             [
              0.3333333333333333,
              "#9c179e"
             ],
             [
              0.4444444444444444,
              "#bd3786"
             ],
             [
              0.5555555555555556,
              "#d8576b"
             ],
             [
              0.6666666666666666,
              "#ed7953"
             ],
             [
              0.7777777777777778,
              "#fb9f3a"
             ],
             [
              0.8888888888888888,
              "#fdca26"
             ],
             [
              1,
              "#f0f921"
             ]
            ],
            "type": "histogram2d"
           }
          ],
          "histogram2dcontour": [
           {
            "colorbar": {
             "outlinewidth": 0,
             "ticks": ""
            },
            "colorscale": [
             [
              0,
              "#0d0887"
             ],
             [
              0.1111111111111111,
              "#46039f"
             ],
             [
              0.2222222222222222,
              "#7201a8"
             ],
             [
              0.3333333333333333,
              "#9c179e"
             ],
             [
              0.4444444444444444,
              "#bd3786"
             ],
             [
              0.5555555555555556,
              "#d8576b"
             ],
             [
              0.6666666666666666,
              "#ed7953"
             ],
             [
              0.7777777777777778,
              "#fb9f3a"
             ],
             [
              0.8888888888888888,
              "#fdca26"
             ],
             [
              1,
              "#f0f921"
             ]
            ],
            "type": "histogram2dcontour"
           }
          ],
          "mesh3d": [
           {
            "colorbar": {
             "outlinewidth": 0,
             "ticks": ""
            },
            "type": "mesh3d"
           }
          ],
          "parcoords": [
           {
            "line": {
             "colorbar": {
              "outlinewidth": 0,
              "ticks": ""
             }
            },
            "type": "parcoords"
           }
          ],
          "pie": [
           {
            "automargin": true,
            "type": "pie"
           }
          ],
          "scatter": [
           {
            "marker": {
             "colorbar": {
              "outlinewidth": 0,
              "ticks": ""
             }
            },
            "type": "scatter"
           }
          ],
          "scatter3d": [
           {
            "line": {
             "colorbar": {
              "outlinewidth": 0,
              "ticks": ""
             }
            },
            "marker": {
             "colorbar": {
              "outlinewidth": 0,
              "ticks": ""
             }
            },
            "type": "scatter3d"
           }
          ],
          "scattercarpet": [
           {
            "marker": {
             "colorbar": {
              "outlinewidth": 0,
              "ticks": ""
             }
            },
            "type": "scattercarpet"
           }
          ],
          "scattergeo": [
           {
            "marker": {
             "colorbar": {
              "outlinewidth": 0,
              "ticks": ""
             }
            },
            "type": "scattergeo"
           }
          ],
          "scattergl": [
           {
            "marker": {
             "colorbar": {
              "outlinewidth": 0,
              "ticks": ""
             }
            },
            "type": "scattergl"
           }
          ],
          "scattermapbox": [
           {
            "marker": {
             "colorbar": {
              "outlinewidth": 0,
              "ticks": ""
             }
            },
            "type": "scattermapbox"
           }
          ],
          "scatterpolar": [
           {
            "marker": {
             "colorbar": {
              "outlinewidth": 0,
              "ticks": ""
             }
            },
            "type": "scatterpolar"
           }
          ],
          "scatterpolargl": [
           {
            "marker": {
             "colorbar": {
              "outlinewidth": 0,
              "ticks": ""
             }
            },
            "type": "scatterpolargl"
           }
          ],
          "scatterternary": [
           {
            "marker": {
             "colorbar": {
              "outlinewidth": 0,
              "ticks": ""
             }
            },
            "type": "scatterternary"
           }
          ],
          "surface": [
           {
            "colorbar": {
             "outlinewidth": 0,
             "ticks": ""
            },
            "colorscale": [
             [
              0,
              "#0d0887"
             ],
             [
              0.1111111111111111,
              "#46039f"
             ],
             [
              0.2222222222222222,
              "#7201a8"
             ],
             [
              0.3333333333333333,
              "#9c179e"
             ],
             [
              0.4444444444444444,
              "#bd3786"
             ],
             [
              0.5555555555555556,
              "#d8576b"
             ],
             [
              0.6666666666666666,
              "#ed7953"
             ],
             [
              0.7777777777777778,
              "#fb9f3a"
             ],
             [
              0.8888888888888888,
              "#fdca26"
             ],
             [
              1,
              "#f0f921"
             ]
            ],
            "type": "surface"
           }
          ],
          "table": [
           {
            "cells": {
             "fill": {
              "color": "#EBF0F8"
             },
             "line": {
              "color": "white"
             }
            },
            "header": {
             "fill": {
              "color": "#C8D4E3"
             },
             "line": {
              "color": "white"
             }
            },
            "type": "table"
           }
          ]
         },
         "layout": {
          "annotationdefaults": {
           "arrowcolor": "#2a3f5f",
           "arrowhead": 0,
           "arrowwidth": 1
          },
          "autotypenumbers": "strict",
          "coloraxis": {
           "colorbar": {
            "outlinewidth": 0,
            "ticks": ""
           }
          },
          "colorscale": {
           "diverging": [
            [
             0,
             "#8e0152"
            ],
            [
             0.1,
             "#c51b7d"
            ],
            [
             0.2,
             "#de77ae"
            ],
            [
             0.3,
             "#f1b6da"
            ],
            [
             0.4,
             "#fde0ef"
            ],
            [
             0.5,
             "#f7f7f7"
            ],
            [
             0.6,
             "#e6f5d0"
            ],
            [
             0.7,
             "#b8e186"
            ],
            [
             0.8,
             "#7fbc41"
            ],
            [
             0.9,
             "#4d9221"
            ],
            [
             1,
             "#276419"
            ]
           ],
           "sequential": [
            [
             0,
             "#0d0887"
            ],
            [
             0.1111111111111111,
             "#46039f"
            ],
            [
             0.2222222222222222,
             "#7201a8"
            ],
            [
             0.3333333333333333,
             "#9c179e"
            ],
            [
             0.4444444444444444,
             "#bd3786"
            ],
            [
             0.5555555555555556,
             "#d8576b"
            ],
            [
             0.6666666666666666,
             "#ed7953"
            ],
            [
             0.7777777777777778,
             "#fb9f3a"
            ],
            [
             0.8888888888888888,
             "#fdca26"
            ],
            [
             1,
             "#f0f921"
            ]
           ],
           "sequentialminus": [
            [
             0,
             "#0d0887"
            ],
            [
             0.1111111111111111,
             "#46039f"
            ],
            [
             0.2222222222222222,
             "#7201a8"
            ],
            [
             0.3333333333333333,
             "#9c179e"
            ],
            [
             0.4444444444444444,
             "#bd3786"
            ],
            [
             0.5555555555555556,
             "#d8576b"
            ],
            [
             0.6666666666666666,
             "#ed7953"
            ],
            [
             0.7777777777777778,
             "#fb9f3a"
            ],
            [
             0.8888888888888888,
             "#fdca26"
            ],
            [
             1,
             "#f0f921"
            ]
           ]
          },
          "colorway": [
           "#636efa",
           "#EF553B",
           "#00cc96",
           "#ab63fa",
           "#FFA15A",
           "#19d3f3",
           "#FF6692",
           "#B6E880",
           "#FF97FF",
           "#FECB52"
          ],
          "font": {
           "color": "#2a3f5f"
          },
          "geo": {
           "bgcolor": "white",
           "lakecolor": "white",
           "landcolor": "#E5ECF6",
           "showlakes": true,
           "showland": true,
           "subunitcolor": "white"
          },
          "hoverlabel": {
           "align": "left"
          },
          "hovermode": "closest",
          "mapbox": {
           "style": "light"
          },
          "paper_bgcolor": "white",
          "plot_bgcolor": "#E5ECF6",
          "polar": {
           "angularaxis": {
            "gridcolor": "white",
            "linecolor": "white",
            "ticks": ""
           },
           "bgcolor": "#E5ECF6",
           "radialaxis": {
            "gridcolor": "white",
            "linecolor": "white",
            "ticks": ""
           }
          },
          "scene": {
           "xaxis": {
            "backgroundcolor": "#E5ECF6",
            "gridcolor": "white",
            "gridwidth": 2,
            "linecolor": "white",
            "showbackground": true,
            "ticks": "",
            "zerolinecolor": "white"
           },
           "yaxis": {
            "backgroundcolor": "#E5ECF6",
            "gridcolor": "white",
            "gridwidth": 2,
            "linecolor": "white",
            "showbackground": true,
            "ticks": "",
            "zerolinecolor": "white"
           },
           "zaxis": {
            "backgroundcolor": "#E5ECF6",
            "gridcolor": "white",
            "gridwidth": 2,
            "linecolor": "white",
            "showbackground": true,
            "ticks": "",
            "zerolinecolor": "white"
           }
          },
          "shapedefaults": {
           "line": {
            "color": "#2a3f5f"
           }
          },
          "ternary": {
           "aaxis": {
            "gridcolor": "white",
            "linecolor": "white",
            "ticks": ""
           },
           "baxis": {
            "gridcolor": "white",
            "linecolor": "white",
            "ticks": ""
           },
           "bgcolor": "#E5ECF6",
           "caxis": {
            "gridcolor": "white",
            "linecolor": "white",
            "ticks": ""
           }
          },
          "title": {
           "x": 0.05
          },
          "xaxis": {
           "automargin": true,
           "gridcolor": "white",
           "linecolor": "white",
           "ticks": "",
           "title": {
            "standoff": 15
           },
           "zerolinecolor": "white",
           "zerolinewidth": 2
          },
          "yaxis": {
           "automargin": true,
           "gridcolor": "white",
           "linecolor": "white",
           "ticks": "",
           "title": {
            "standoff": 15
           },
           "zerolinecolor": "white",
           "zerolinewidth": 2
          }
         }
        },
        "xaxis": {
         "anchor": "y",
         "domain": [
          0,
          1
         ],
         "title": {
          "text": "TimeToUltimateHeight_Min"
         }
        },
        "yaxis": {
         "anchor": "x",
         "domain": [
          0,
          1
         ],
         "title": {
          "text": "TimeToUltimateHeight_Max"
         }
        }
       }
      }
     },
     "metadata": {}
    }
   ],
   "metadata": {}
  }
 ],
 "metadata": {
  "orig_nbformat": 4,
  "language_info": {
   "name": "python"
  }
 },
 "nbformat": 4,
 "nbformat_minor": 2
}